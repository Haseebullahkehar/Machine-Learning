{
  "cells": [
    {
      "cell_type": "code",
      "execution_count": null,
      "metadata": {
        "colab": {
          "base_uri": "https://localhost:8080/"
        },
        "id": "GG93NEMmz0pv",
        "outputId": "a122d1e4-14b5-4acb-b4f4-99d06e4b19b3"
      },
      "outputs": [
        {
          "name": "stdout",
          "output_type": "stream",
          "text": [
            "Hello world\n"
          ]
        }
      ],
      "source": [
        "print(\"Hello world\")"
      ]
    },
    {
      "cell_type": "markdown",
      "metadata": {},
      "source": [
        "# **Arithmatic Operation**"
      ]
    },
    {
      "cell_type": "code",
      "execution_count": null,
      "metadata": {
        "colab": {
          "base_uri": "https://localhost:8080/"
        },
        "id": "qgCaBawL1LYI",
        "outputId": "53683c71-e746-4afe-b58a-d7ceacb793f5"
      },
      "outputs": [
        {
          "name": "stdout",
          "output_type": "stream",
          "text": [
            "9\n"
          ]
        }
      ],
      "source": [
        "a = 4\n",
        "b =5\n",
        "\n",
        "sum = a+b\n",
        "print(sum)"
      ]
    },
    {
      "cell_type": "code",
      "execution_count": 5,
      "metadata": {},
      "outputs": [
        {
          "name": "stdout",
          "output_type": "stream",
          "text": [
            "5\n"
          ]
        }
      ],
      "source": [
        "a = 10\n",
        "b = 5\n",
        "\n",
        "subtraction = a-b\n",
        "print(subtraction)"
      ]
    },
    {
      "cell_type": "code",
      "execution_count": 6,
      "metadata": {},
      "outputs": [
        {
          "name": "stdout",
          "output_type": "stream",
          "text": [
            "50\n"
          ]
        }
      ],
      "source": [
        "# Multiplication\n",
        "\n",
        "a = 10\n",
        "b = 5\n",
        "\n",
        "Multiply = a*b\n",
        "print(Multiply)"
      ]
    },
    {
      "cell_type": "code",
      "execution_count": 7,
      "metadata": {},
      "outputs": [
        {
          "name": "stdout",
          "output_type": "stream",
          "text": [
            "50\n"
          ]
        }
      ],
      "source": [
        "a = 10\n",
        "b = 5\n",
        "\n",
        "division = a*b\n",
        "print(division)"
      ]
    },
    {
      "cell_type": "code",
      "execution_count": null,
      "metadata": {
        "id": "FGZNZCRw1Vkw"
      },
      "outputs": [],
      "source": [
        "# user input\n",
        "\n",
        "num1 = int(input(\"Enter first number\"))\n",
        "num2 = int(input(\"Enter second number\"))\n",
        "\n",
        "print(num1+num2)\n"
      ]
    },
    {
      "cell_type": "markdown",
      "metadata": {
        "id": "fd-_oHne56YH"
      },
      "source": [
        "# **Strings in python**"
      ]
    },
    {
      "cell_type": "code",
      "execution_count": null,
      "metadata": {
        "id": "iMs6LmV06H4h"
      },
      "outputs": [],
      "source": [
        "a = \"Hello\"\n",
        "print(a)"
      ]
    },
    {
      "cell_type": "code",
      "execution_count": null,
      "metadata": {
        "id": "WIJ5svWc6Yck"
      },
      "outputs": [],
      "source": [
        "a = \"\"\"AL, or artificial intelligence refer to the development and implementation of computer system\"\"\"\n",
        "print(a)"
      ]
    },
    {
      "cell_type": "code",
      "execution_count": null,
      "metadata": {
        "id": "B3ubk1Xn6_Jy"
      },
      "outputs": [],
      "source": [
        "var = \"Hello world\"\n",
        "print(var.upper())"
      ]
    },
    {
      "cell_type": "code",
      "execution_count": null,
      "metadata": {
        "id": "KoK5fTgi7RDs"
      },
      "outputs": [],
      "source": [
        "var1 = \"HELLO MY NAME IS HASEEB ULLAH AND NOW I AM CURRENTLY LEARNING AI COURSE WITH IRFAN MALIK\"\n",
        "print(var1.lower())"
      ]
    },
    {
      "cell_type": "markdown",
      "metadata": {
        "id": "HgiiiSO77uVh"
      },
      "source": [
        "*Remove Whitespace*\n",
        "\n",
        "whitespace is the space before and/or after the actual text, and very often you want to remove this space. The strip() method removes any whitespace from the beggining or the end"
      ]
    },
    {
      "cell_type": "code",
      "execution_count": null,
      "metadata": {
        "id": "91fX_dZM7q8U"
      },
      "outputs": [],
      "source": [
        "a = \"Hello, world\"\n",
        "print(a.strip())\n"
      ]
    },
    {
      "cell_type": "markdown",
      "metadata": {},
      "source": [
        "# **str.replace() method**\n",
        "\n",
        "###  **method to replace all spaces with an empty string, removes space from beggining, middle and at the last**"
      ]
    },
    {
      "cell_type": "code",
      "execution_count": null,
      "metadata": {
        "id": "cVXvjjn69nSp"
      },
      "outputs": [],
      "source": [
        "# the following part is used when you want to replace any character and after how many characters\n",
        "word = \" hello     world\"\n",
        "new_word = word.replace(\" \",\"\",5)\n",
        "print(new_word)"
      ]
    },
    {
      "cell_type": "code",
      "execution_count": null,
      "metadata": {
        "id": "rUunLWkv-x1l"
      },
      "outputs": [],
      "source": [
        "# word = \"Hello world\"\n",
        "print(a.replace(\"e\", \"a\"))\n",
        "print(a.replace(\"w\",\"W\"))\n",
        "print(a.replace(\"ello\",\"aseeb\"))\n"
      ]
    },
    {
      "cell_type": "markdown",
      "metadata": {},
      "source": [
        "# **Split String**"
      ]
    },
    {
      "cell_type": "code",
      "execution_count": null,
      "metadata": {
        "id": "s1VMjtn9_6AQ"
      },
      "outputs": [],
      "source": [
        "\n",
        "\n",
        "a = \"Hello, world!\"\n",
        "print(a.split(\",\"))  #returns  ['Hello', 'world']\n",
        "\n",
        "text = \"Hello World\"\n",
        "print(text.split())"
      ]
    },
    {
      "cell_type": "markdown",
      "metadata": {},
      "source": [
        "# **Tasks**"
      ]
    },
    {
      "cell_type": "code",
      "execution_count": null,
      "metadata": {
        "id": "SuMjOafJHt80"
      },
      "outputs": [],
      "source": [
        "\n",
        "# a) Convert the input_string to uppercase using the \"upper()\" function and store the result in a variable called 'capitalized_text'.\n",
        "\n",
        "word = \"Hello world\"\n",
        "capitailized_text= word.upper()\n",
        "print(capitailized_text)\n",
        "\n",
        "\n",
        "# b) convert the  to lowercase using the \"lower() function and store the result in a variable called \"lowercase_txt\".\n",
        "word_2 = \"HELLO WORLD\"\n",
        "lowercase_text= word_2.lower()\n",
        "print(lowercase_text)\n",
        "\n",
        "# c) Remove the white spaces from the input_string using the \"strip()\" function and store the result in a variable called \"White_space\"\n",
        "\n",
        "word_3 = \" Hello world\"\n",
        "White_space = word_3.strip()\n",
        "print(White_space)\n",
        "\n",
        "\n",
        "# d) split the input_string into a list of words using the \"split()\" function and store the result in a variable called \"word_list\"\n",
        "word_4 = \"Hello world i am Haseeb Ullah Kehar\"\n",
        "word_list = word_4.split()\n",
        "print(word_list)\n",
        "\n",
        "\n",
        "# e)Replace the word 'positive' with the word 'remarkable' in the input_string using the \"replace() function and store the result in the replaced_text \"\n",
        "word_5 = \"positive\"\n",
        "replaced_text= word_5.replace(\"positive\", \"remarkable\")\n",
        "print(\"The word positive is replaced by \",replaced_text)\n"
      ]
    },
    {
      "cell_type": "markdown",
      "metadata": {
        "id": "xVT2gv-XQUh4"
      },
      "source": [
        "# **List In Python**\n",
        "\n",
        "Lists are created using square brackets\n",
        "\n"
      ]
    },
    {
      "cell_type": "code",
      "execution_count": null,
      "metadata": {
        "id": "qvvUIn_9QOOb"
      },
      "outputs": [],
      "source": [
        "thisList= [\"apple\", \"Banana\", \"Mango\"]\n",
        "print(thisList)\n"
      ]
    },
    {
      "cell_type": "code",
      "execution_count": null,
      "metadata": {
        "id": "iHwsFbOPQ1xu"
      },
      "outputs": [],
      "source": [
        "# List Items\n",
        "# list items are ordered, changeable, and allow duplicate values.List items are indexed , the first tems has index[0], the second item has index[1]\n",
        "\n",
        "thisList= ['Apple', 'banana', 'charry', 'apple', 'charry']\n",
        "thisList.append(\"Orange\")\n",
        "print(thisList)\n"
      ]
    },
    {
      "cell_type": "markdown",
      "metadata": {},
      "source": [
        "# **Tuple In Python**"
      ]
    },
    {
      "cell_type": "code",
      "execution_count": null,
      "metadata": {
        "id": "IbY1kwtUb29y"
      },
      "outputs": [],
      "source": [
        "import collections\n",
        "# Tuple\n",
        "# Tuples are used to store multiple items in a single variable. A tuple is a collection\n",
        "# which is ordered and unchangeable.Tuples are written with round brackets.\n",
        "\n",
        "thistuple= (\"apple\", \"banana\", \"cherry\")\n",
        "print(thistuple)\n",
        "\n",
        "\n",
        "#Tuples are unchangeable , let's see\n",
        "\n",
        "thistuple[0] = \"Orange\"\n",
        "print(thistuple)\n",
        "\n",
        "# # Hence proved that items of tuple can not be changed\n",
        "\n",
        "\n"
      ]
    },
    {
      "cell_type": "code",
      "execution_count": null,
      "metadata": {
        "id": "TnoYrXftTTha"
      },
      "outputs": [],
      "source": [
        "# # One item tuple, remember the comma:\n",
        "thistuple =(\"apple\",)\n",
        "print(type(thistuple))\n",
        "\n",
        "# #NOT a tuple (it acts as string)\n",
        "thistuple =(\"apple\")\n",
        "print(type(thistuple))\n",
        "\n",
        "\n",
        "\n"
      ]
    },
    {
      "cell_type": "markdown",
      "metadata": {},
      "source": [
        "# **Sets In Python**"
      ]
    },
    {
      "cell_type": "code",
      "execution_count": null,
      "metadata": {
        "id": "tCLOsu9rjFvk"
      },
      "outputs": [],
      "source": [
        "# Python Sets\n",
        "\n",
        "# sets are used to store multiple items in a single variable . A set is a collection which is unordered , unchangeable, and unindexed\n",
        "# * NOTE * Items are unchangeable, but you can remove items and add new items\n",
        "#Duplicates elements are not allowed\n",
        "\n",
        "thisset = {\"apple\", \"banana\",\" cherry\"}\n",
        "\n",
        "print(thiset)\n",
        "\n",
        "# Let's see if set elements are unchangeable\n",
        "\n",
        "thisset[0] = \"Orange\"\n",
        "print(thisset)\n",
        "\n",
        "# Let's see if set allows duplicates\n",
        "\n",
        "thisset= {\"apple\", \"banana\", \"apple\"}\n",
        "print(thisset)\n",
        "\n",
        "# Element removed\n",
        "\n",
        "print(len(thisset))\n",
        "print(type(thisset))\n",
        "\n",
        "# Hence proved Set elements are unchangeable , and duplicated restricted\n",
        "\n"
      ]
    },
    {
      "cell_type": "markdown",
      "metadata": {},
      "source": [
        "# **Python dictionaries**"
      ]
    },
    {
      "cell_type": "code",
      "execution_count": null,
      "metadata": {
        "id": "oCBv2V0274mH"
      },
      "outputs": [],
      "source": [
        "\n",
        "# # Disctioneries are used to store data values in key-value pairs.\n",
        "# # A dictionary is a collection which is ordered , changeable and do not allow duplicates\n",
        "\n",
        "# #Create and print a dictionary\n",
        "# thedict= {\n",
        "#     \"brand\": \"ford\",\n",
        "#     \"model\": \"Mustang\",\n",
        "#     \"year\" : 1990\n",
        "\n",
        "# }\n",
        "# print(thedict)\n",
        "\n",
        "# The_Personal_Dictionary={\n",
        "#     \"Name\": \"HaseebUllah\",\n",
        "#     \"Roll_no\": \"21sw090\",\n",
        "#     \"Department\":\"Sofware Engineering\",\n",
        "#     \"University\":\"Muet\",\n",
        "#     \"Grad_year\": 2025,\n",
        "#     # \"Add_year\": 2025   # Not allowed\n",
        "# }\n"
      ]
    },
    {
      "cell_type": "markdown",
      "metadata": {},
      "source": [
        "# **IF & ELIF Statement**"
      ]
    },
    {
      "cell_type": "code",
      "execution_count": null,
      "metadata": {
        "id": "3oMfgHBacW23"
      },
      "outputs": [],
      "source": [
        "\n",
        "# a = 56\n",
        "# b = 56\n",
        "\n",
        "# if b > a:\n",
        "#   print(\"a is greater than b\")\n",
        "# elif b == a:\n",
        "#  print(\" a is equal to b \")\n",
        "\n",
        "# else:\n",
        "#   print(\"b is greater than a\")\n",
        "\n",
        "\n"
      ]
    },
    {
      "cell_type": "markdown",
      "metadata": {},
      "source": [
        "# **Python Mini-Project**\n",
        "### Simple calculator using ILIF statement in python"
      ]
    },
    {
      "cell_type": "code",
      "execution_count": null,
      "metadata": {
        "colab": {
          "base_uri": "https://localhost:8080/"
        },
        "id": "CP72AFrNvjuX",
        "outputId": "92c62669-61c3-434b-928f-0dccf0edf968"
      },
      "outputs": [
        {
          "name": "stdout",
          "output_type": "stream",
          "text": [
            "Calculator Menu : \n",
            "1. Addition \n",
            "2. Subtraction\n",
            "3. Multiplication\n",
            "4. Division\n",
            "5. Modulus\n",
            "Enter the operation (1/2/3/4/5): 1\n",
            "Enter first number :12\n",
            "Enter second number :23\n",
            "Result 35.0\n"
          ]
        }
      ],
      "source": [
        "\n",
        "\n",
        "# Display the menu\n",
        "print(\"Calculator Menu : \")\n",
        "print(\"1. Addition \")\n",
        "print(\"2. Subtraction\")\n",
        "print(\"3. Multiplication\")\n",
        "print(\"4. Division\")\n",
        "print(\"5. Modulus\")\n",
        "\n",
        "#input User choice\n",
        "choice = input(\"Enter the operation (1/2/3/4/5): \")\n",
        "\n",
        "# conver user choice into integer\n",
        "\n",
        "choice = int(choice)\n",
        "\n",
        "# Check the users choice and perform the operation\n",
        "\n",
        "if choice ==1:\n",
        "  num1= float(input(\"Enter first number :\"))\n",
        "  num2 = float(input(\"Enter second number :\"))\n",
        "\n",
        "  result = num1 + num2\n",
        "\n",
        "  print(\"Result\", result)\n",
        "elif choice == 2:\n",
        "  num1 = float (input(\"Enter the first number :\"))\n",
        "  num2 = float(input(\"Enter the second number :\"))\n",
        "\n",
        "  result = num1 - num2\n",
        "  print(\"Result\", result)\n",
        "\n",
        "elif choice == 3:\n",
        "  num1 = float(input(\"Enter the first number :\"))\n",
        "  num2 = float(input(\"Enter the second number :\"))\n",
        "\n",
        "  result = num1 * num2\n",
        "  print(\"Result\", float( result))\n",
        "\n",
        "elif choice == 4:\n",
        "  num1 = float(input(\"Enter the first number :\"))\n",
        "  num2 = float(input(\"Enter the second non-zero number :\"))\n",
        "\n",
        "  if num2==0:\n",
        "    print(\"This operation is not allowed ! \")\n",
        "\n",
        "elif num != 0 :\n",
        "      result = num1/num2\n",
        "\n",
        "else:\n",
        "    print(\"Invalid Choice, please select a valid operation (1/2/3/4)\")\n",
        "\n"
      ]
    },
    {
      "cell_type": "markdown",
      "metadata": {},
      "source": [
        "# **LOOPS_IN_PYTHON**"
      ]
    },
    {
      "cell_type": "code",
      "execution_count": null,
      "metadata": {
        "id": "blZs2dVNWYdK"
      },
      "outputs": [],
      "source": [
        "\n",
        "\"\"\"\n",
        "For Loop:\n",
        "    The for loop in Python is used to iterate over a sequence, which\n",
        "could be a list, tuple, array, or string.\n",
        "\n",
        "Examples:\n",
        "\"\"\"\n",
        "list = [1,2,3,4,5,6,7,8,9]\n",
        "\n",
        "for var_b in list:\n",
        "    print(var_b)\n",
        "    print(var_b)\n",
        "# it will print every number two times.\n",
        "\n",
        "list1 = [1,2,3,4,5]\n",
        "for var_a in list1:\n",
        "    print(f'The value is: {var_a}')\n",
        "# Using statement in loops, which will be printed everytime the loop iterates.\n",
        "\n",
        "\n",
        "# Using For Loop for range:\n",
        "for i in range(11):\n",
        "    print(i)\n",
        "# It will print eleven numbers starting from 0 to 10.\n",
        "\n",
        "\n",
        "# Creating String List\n",
        "namesList = ['Azhar','Shahid','Haseeb','Arayan','Fahad','Jawad','Qurban']\n",
        "for name in namesList:\n",
        "    print(name)\n",
        "# All names will be printed.\n"
      ]
    },
    {
      "cell_type": "markdown",
      "metadata": {},
      "source": [
        "# **For Loop Applications**"
      ]
    },
    {
      "cell_type": "code",
      "execution_count": 8,
      "metadata": {},
      "outputs": [
        {
          "name": "stdout",
          "output_type": "stream",
          "text": [
            "Sum of numbers in List is: 48\n",
            "Sum of numbers in range is: 6877350\n",
            "******************************\n",
            "red apple\n",
            "red banana\n",
            "red cherry\n",
            "big apple\n",
            "big banana\n",
            "big cherry\n",
            "tasty apple\n",
            "tasty banana\n",
            "tasty cherry\n",
            "******************************\n",
            "0\n",
            "1\n",
            "2\n",
            "3\n",
            "4\n",
            "5\n",
            "6\n",
            "7\n",
            "8\n",
            "9\n",
            "List finished\n",
            "******************************\n",
            "apple red\n",
            "banana big\n",
            "cherry tasty\n",
            "******************************\n",
            "name Haseeb\n",
            "age 20\n"
          ]
        }
      ],
      "source": [
        "\n",
        "# 1. Sum of elements\n",
        "numbers = [6,5,3,8,4,2,5,4,11]\n",
        "\n",
        "sum = 0\n",
        "for i in numbers:\n",
        "    sum = sum+i\n",
        "print(f'Sum of numbers in List is: {sum}')\n",
        "\n",
        "# using range() method\n",
        "sumofnumbers = 0\n",
        "for j in range(17,15285,17):\n",
        "    sumofnumbers = sumofnumbers+j\n",
        "print(f'Sum of numbers in range is: {sumofnumbers}')\n",
        "\n",
        "print(\"*\"*30)\n",
        "\n",
        "# Nested For Loop\n",
        "adj = ['red','big','tasty']\n",
        "fruits = ['apple','banana','cherry']\n",
        "\n",
        "for i in adj:\n",
        "    for j in fruits:\n",
        "        print(i,j)\n",
        "\n",
        "print(\"*\"*30)\n",
        "\n",
        "# Using For Loop with else\n",
        "for i in range(10):\n",
        "    print(i)\n",
        "else:\n",
        "    print(\"List finished\")\n",
        "\n",
        "print(\"*\"*30)\n",
        "\n",
        "# Using zip() method to print lists together\n",
        "adj1 = ['red','big','tasty']\n",
        "fruit = ['apple','banana','cherry']\n",
        "\n",
        "for x,y in zip(fruit,adj1):\n",
        "    print(x,y)\n",
        "\n",
        "print(\"*\"*30)\n",
        "\n",
        "\n",
        "# Accessing Dictionary elements by For Loop\n",
        "dic = {'name':'Haseeb','age':20}\n",
        "for key,value in dic.items():\n",
        "    print(key,value)\n"
      ]
    }
  ],
  "metadata": {
    "colab": {
      "provenance": []
    },
    "kernelspec": {
      "display_name": "Python 3",
      "name": "python3"
    },
    "language_info": {
      "codemirror_mode": {
        "name": "ipython",
        "version": 3
      },
      "file_extension": ".py",
      "mimetype": "text/x-python",
      "name": "python",
      "nbconvert_exporter": "python",
      "pygments_lexer": "ipython3",
      "version": "3.11.0"
    }
  },
  "nbformat": 4,
  "nbformat_minor": 0
}
